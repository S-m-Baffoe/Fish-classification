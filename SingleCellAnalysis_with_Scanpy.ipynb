{
  "nbformat": 4,
  "nbformat_minor": 0,
  "metadata": {
    "colab": {
      "name": "SingleCellAnalysis_with_Scanpy.ipynb",
      "provenance": [],
      "collapsed_sections": [],
      "authorship_tag": "ABX9TyMaN1rHLvjgJhHgMjN4JdyT",
      "include_colab_link": true
    },
    "kernelspec": {
      "name": "python3",
      "display_name": "Python 3"
    },
    "language_info": {
      "name": "python"
    }
  },
  "cells": [
    {
      "cell_type": "markdown",
      "metadata": {
        "id": "view-in-github",
        "colab_type": "text"
      },
      "source": [
        "<a href=\"https://colab.research.google.com/github/S-m-Baffoe/Fish-classification/blob/main/SingleCellAnalysis_with_Scanpy.ipynb\" target=\"_parent\"><img src=\"https://colab.research.google.com/assets/colab-badge.svg\" alt=\"Open In Colab\"/></a>"
      ]
    },
    {
      "cell_type": "code",
      "metadata": {
        "id": "l2awPzzxwTR1"
      },
      "source": [
        ""
      ],
      "execution_count": null,
      "outputs": []
    },
    {
      "cell_type": "markdown",
      "metadata": {
        "id": "_a1pToNUwUiJ"
      },
      "source": [
        "**Download the Dataset**"
      ]
    },
    {
      "cell_type": "code",
      "metadata": {
        "colab": {
          "base_uri": "https://localhost:8080/"
        },
        "id": "1HNXnGCefDLJ",
        "outputId": "9734cc8c-d8af-4104-b919-151e07ad9d60"
      },
      "source": [
        "!mkdir dataset \n",
        "!wget https://cf.10xgenomics.com/samples/cell-exp/6.1.0/H1975_A549_DrugScreen_3p_HT_nextgem_cancer_targeting/H1975_A549_DrugScreen_3p_HT_nextgem_cancer_targeting_count_filtered_feature_bc_matrix.tar.gz -O dataset/Cancer_DrugScreen.tar.gz\n",
        "# !wget http://cf.10xgenomics.com/samples/cell-exp/1.1.0/pbmc3k/pbmc3k_filtered_gene_bc_matrices.tar.gz -O data/pbmc3k_filtered_gene_bc_matrices.tar.gz\n",
        "!cd dataset; tar -xzf Cancer_DrugScreen.tar.gz\n",
        "!mkdir write\n"
      ],
      "execution_count": 2,
      "outputs": [
        {
          "output_type": "stream",
          "name": "stdout",
          "text": [
            "--2021-10-22 02:06:56--  https://cf.10xgenomics.com/samples/cell-exp/6.1.0/H1975_A549_DrugScreen_3p_HT_nextgem_cancer_targeting/H1975_A549_DrugScreen_3p_HT_nextgem_cancer_targeting_count_filtered_feature_bc_matrix.tar.gz\n",
            "Resolving cf.10xgenomics.com (cf.10xgenomics.com)... 104.18.1.173, 104.18.0.173, 2606:4700::6812:1ad, ...\n",
            "Connecting to cf.10xgenomics.com (cf.10xgenomics.com)|104.18.1.173|:443... connected.\n",
            "HTTP request sent, awaiting response... 200 OK\n",
            "Length: 821272982 (783M) [application/x-tar]\n",
            "Saving to: ‘dataset/Cancer_DrugScreen.tar.gz’\n",
            "\n",
            "dataset/Cancer_Drug 100%[===================>] 783.23M  19.8MB/s    in 38s     \n",
            "\n",
            "2021-10-22 02:07:35 (20.8 MB/s) - ‘dataset/Cancer_DrugScreen.tar.gz’ saved [821272982/821272982]\n",
            "\n"
          ]
        }
      ]
    },
    {
      "cell_type": "markdown",
      "metadata": {
        "id": "LxjfdxwdpitW"
      },
      "source": [
        "**Package intallation**\n",
        "\n"
      ]
    },
    {
      "cell_type": "code",
      "metadata": {
        "id": "D-Kp7fXfpgue"
      },
      "source": [
        "import numpy as np\n",
        "import pandas as pd\n",
        "import scanpy as sc\n"
      ],
      "execution_count": null,
      "outputs": []
    },
    {
      "cell_type": "code",
      "metadata": {
        "id": "oeH0YEFtrg_p"
      },
      "source": [
        "sc.settings.verbosity = 3             # verbosity: errors (0), warnings (1), info (2), hints (3)\n",
        "sc.logging.print_header()\n",
        "sc.settings.set_figure_params(dpi=80, facecolor='white')"
      ],
      "execution_count": null,
      "outputs": []
    },
    {
      "cell_type": "code",
      "metadata": {
        "id": "LMfgxXGMrgtW"
      },
      "source": [
        ""
      ],
      "execution_count": null,
      "outputs": []
    },
    {
      "cell_type": "markdown",
      "metadata": {
        "id": "Kf5LoM_Gpbox"
      },
      "source": [
        ""
      ]
    }
  ]
}